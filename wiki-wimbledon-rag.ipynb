{
 "cells": [
  {
   "cell_type": "markdown",
   "id": "978f913d",
   "metadata": {},
   "source": [
    "## Retrieval Augmented Generation for a Wiki Page using LangChain, OpenAI, and ChromaDB"
   ]
  },
  {
   "cell_type": "code",
   "execution_count": 67,
   "id": "4ac8b113",
   "metadata": {},
   "outputs": [],
   "source": [
    "## Load Data from the Wikipedia\n",
    "\n",
    "from langchain.document_loaders import WikipediaLoader\n",
    "from langchain.text_splitter import RecursiveCharacterTextSplitter"
   ]
  },
  {
   "cell_type": "code",
   "execution_count": 68,
   "id": "529e5d48",
   "metadata": {},
   "outputs": [],
   "source": [
    "import wikipedia\n",
    "search_term = \"2023 Wimbledon Championships\"\n",
    "docs = WikipediaLoader(query=search_term, load_max_docs=1).load()"
   ]
  },
  {
   "cell_type": "code",
   "execution_count": 69,
   "id": "7ec614bb",
   "metadata": {},
   "outputs": [
    {
     "data": {
      "text/plain": [
       "[Document(page_content='The 2023 Wimbledon Championships was a Grand Slam tennis tournament that took place at the All', metadata={'title': '2023 Wimbledon Championships', 'summary': 'The 2023 Wimbledon Championships was a Grand Slam tennis tournament that took place at the All England Lawn Tennis and Croquet Club in Wimbledon, London, United Kingdom.', 'source': 'https://en.wikipedia.org/wiki/2023_Wimbledon_Championships'}),\n",
       " Document(page_content='place at the All England Lawn Tennis and Croquet Club in Wimbledon, London, United Kingdom.', metadata={'title': '2023 Wimbledon Championships', 'summary': 'The 2023 Wimbledon Championships was a Grand Slam tennis tournament that took place at the All England Lawn Tennis and Croquet Club in Wimbledon, London, United Kingdom.', 'source': 'https://en.wikipedia.org/wiki/2023_Wimbledon_Championships'}),\n",
       " Document(page_content='== Tournament ==', metadata={'title': '2023 Wimbledon Championships', 'summary': 'The 2023 Wimbledon Championships was a Grand Slam tennis tournament that took place at the All England Lawn Tennis and Croquet Club in Wimbledon, London, United Kingdom.', 'source': 'https://en.wikipedia.org/wiki/2023_Wimbledon_Championships'})]"
      ]
     },
     "execution_count": 69,
     "metadata": {},
     "output_type": "execute_result"
    }
   ],
   "source": [
    "#Split the text into 100 characters chunks using the Recursive text splitter\n",
    "\n",
    "text_splitter = RecursiveCharacterTextSplitter(\n",
    "                    chunk_size=100,\n",
    "                    chunk_overlap=20,\n",
    "                    length_function=len,\n",
    "                    is_separator_regex=False\n",
    "                )\n",
    "\n",
    "data = text_splitter.split_documents(docs)\n",
    "data[:3]"
   ]
  },
  {
   "cell_type": "code",
   "execution_count": 70,
   "id": "abafe21c",
   "metadata": {},
   "outputs": [],
   "source": [
    "#Store embeddings in ChromaDB\n",
    "\n",
    "from langchain.vectorstores import Chroma\n",
    "from langchain.embeddings import OpenAIEmbeddings"
   ]
  },
  {
   "cell_type": "code",
   "execution_count": 71,
   "id": "70d61142",
   "metadata": {},
   "outputs": [],
   "source": [
    "embeddings = OpenAIEmbeddings()"
   ]
  },
  {
   "cell_type": "code",
   "execution_count": 72,
   "id": "6bf436db",
   "metadata": {},
   "outputs": [],
   "source": [
    "store = Chroma.from_documents(\n",
    "        data,\n",
    "        embeddings,\n",
    "        ids=[f\"{item.metadata['source']}-{index}\" for index, item in enumerate(data)],\n",
    "        collection_name=\"Wimbledon-Embeddings\",\n",
    "        persist_directory='db'\n",
    "        )\n",
    "\n",
    "store.persist()"
   ]
  },
  {
   "cell_type": "code",
   "execution_count": 73,
   "id": "d1887a13",
   "metadata": {},
   "outputs": [],
   "source": [
    "# Asking Questions about Wimbledon 2023\n",
    "\n",
    "from langchain.chains import RetrievalQA\n",
    "from langchain.prompts import PromptTemplate\n",
    "from langchain.chat_models import ChatOpenAI\n",
    "import pprint"
   ]
  },
  {
   "cell_type": "code",
   "execution_count": 74,
   "id": "2dd80584",
   "metadata": {},
   "outputs": [],
   "source": [
    "prompt_template = \"\"\"You are a Assistant that answers questions about Wimbledon 2023, using only the context provided.\n",
    "If you don't know the answer, simply state that you don't know it\n",
    "\n",
    "\n",
    "{context}\n",
    "\n",
    "Question: {question}\n",
    "\"\"\"\n",
    "\n",
    "PROMPT = PromptTemplate(\n",
    "            template=prompt_template,\n",
    "            input_variables=[\"context\", \"question\"]\n",
    "        )"
   ]
  },
  {
   "cell_type": "code",
   "execution_count": 75,
   "id": "63dd5f8f",
   "metadata": {},
   "outputs": [],
   "source": [
    "llm_model = ChatOpenAI(temperature=0, model=\"gpt-4\")"
   ]
  },
  {
   "cell_type": "code",
   "execution_count": 76,
   "id": "1f2885b0",
   "metadata": {},
   "outputs": [],
   "source": [
    "qa_with_source = RetrievalQA.from_chain_type(\n",
    "                llm=llm_model,\n",
    "                chain_type=\"stuff\",\n",
    "                retriever=store.as_retriever(),\n",
    "                chain_type_kwargs={\"prompt\": PROMPT},\n",
    "                return_source_documents=True,\n",
    "                )"
   ]
  },
  {
   "cell_type": "code",
   "execution_count": 77,
   "id": "db26dbca",
   "metadata": {},
   "outputs": [
    {
     "name": "stdout",
     "output_type": "stream",
     "text": [
      "{'query': 'When and where was the Wimbledon 2023 held?',\n",
      " 'result': 'The Wimbledon 2023 was held at the All England Lawn Tennis and '\n",
      "           'Croquet Club in Wimbledon, London, United Kingdom from 3 to 16 '\n",
      "           'July 2023.',\n",
      " 'source_documents': [Document(page_content='at the All England Lawn Tennis and Croquet Club, Wimbledon, from 3 to 16 July 2023. Qualifying', metadata={'source': 'https://en.wikipedia.org/wiki/2023_Wimbledon_Championships', 'summary': 'The 2023 Wimbledon Championships was a Grand Slam tennis tournament that took place at the All England Lawn Tennis and Croquet Club in Wimbledon, London, United Kingdom.', 'title': '2023 Wimbledon Championships'}),\n",
      "                      Document(page_content='2023. Qualifying matches were played from 26 to 29 June 2023 at the Bank of England Sports Ground', metadata={'source': 'https://en.wikipedia.org/wiki/2023_Wimbledon_Championships', 'summary': 'The 2023 Wimbledon Championships was a Grand Slam tennis tournament that took place at the All England Lawn Tennis and Croquet Club in Wimbledon, London, United Kingdom.', 'title': '2023 Wimbledon Championships'}),\n",
      "                      Document(page_content='place at the All England Lawn Tennis and Croquet Club in Wimbledon, London, United Kingdom.', metadata={'source': 'https://en.wikipedia.org/wiki/2023_Wimbledon_Championships', 'summary': 'The 2023 Wimbledon Championships was a Grand Slam tennis tournament that took place at the All England Lawn Tennis and Croquet Club in Wimbledon, London, United Kingdom.', 'title': '2023 Wimbledon Championships'}),\n",
      "                      Document(page_content='The 2023 Championships was the 136th edition, the 129th staging of the Ladies’ Singles Championship', metadata={'source': 'https://en.wikipedia.org/wiki/2023_Wimbledon_Championships', 'summary': 'The 2023 Wimbledon Championships was a Grand Slam tennis tournament that took place at the All England Lawn Tennis and Croquet Club in Wimbledon, London, United Kingdom.', 'title': '2023 Wimbledon Championships'})]}\n"
     ]
    }
   ],
   "source": [
    "pprint.pprint(qa_with_source(\"When and where was the Wimbledon 2023 held?\"))"
   ]
  },
  {
   "cell_type": "code",
   "execution_count": 78,
   "id": "5509dabd",
   "metadata": {},
   "outputs": [
    {
     "name": "stdout",
     "output_type": "stream",
     "text": [
      "{'query': 'What was the venue of the tournaments?',\n",
      " 'result': 'The venue of the tournaments was the All England Lawn Tennis and '\n",
      "           'Croquet Club in Wimbledon, London, United Kingdom.',\n",
      " 'source_documents': [Document(page_content='The tournament was played on grass courts, with all main draw matches played at the All England', metadata={'source': 'https://en.wikipedia.org/wiki/2023_Wimbledon_Championships', 'summary': 'The 2023 Wimbledon Championships was a Grand Slam tennis tournament that took place at the All England Lawn Tennis and Croquet Club in Wimbledon, London, United Kingdom.', 'title': '2023 Wimbledon Championships'}),\n",
      "                      Document(page_content='== Tournament ==', metadata={'source': 'https://en.wikipedia.org/wiki/2023_Wimbledon_Championships', 'summary': 'The 2023 Wimbledon Championships was a Grand Slam tennis tournament that took place at the All England Lawn Tennis and Croquet Club in Wimbledon, London, United Kingdom.', 'title': '2023 Wimbledon Championships'}),\n",
      "                      Document(page_content='place at the All England Lawn Tennis and Croquet Club in Wimbledon, London, United Kingdom.', metadata={'source': 'https://en.wikipedia.org/wiki/2023_Wimbledon_Championships', 'summary': 'The 2023 Wimbledon Championships was a Grand Slam tennis tournament that took place at the All England Lawn Tennis and Croquet Club in Wimbledon, London, United Kingdom.', 'title': '2023 Wimbledon Championships'}),\n",
      "                      Document(page_content=\"gentlemen's and ladies' invitational doubles competitions and the mixed invitational double draw\", metadata={'source': 'https://en.wikipedia.org/wiki/2023_Wimbledon_Championships', 'summary': 'The 2023 Wimbledon Championships was a Grand Slam tennis tournament that took place at the All England Lawn Tennis and Croquet Club in Wimbledon, London, United Kingdom.', 'title': '2023 Wimbledon Championships'})]}\n"
     ]
    }
   ],
   "source": [
    "pprint.pprint(qa_with_source(\"What was the venue of the tournaments?\"))"
   ]
  },
  {
   "cell_type": "code",
   "execution_count": null,
   "id": "254b88f7",
   "metadata": {},
   "outputs": [],
   "source": []
  }
 ],
 "metadata": {
  "kernelspec": {
   "display_name": "jupyter-notebook-rag",
   "language": "python",
   "name": "jupyter-notebook-rag"
  },
  "language_info": {
   "codemirror_mode": {
    "name": "ipython",
    "version": 3
   },
   "file_extension": ".py",
   "mimetype": "text/x-python",
   "name": "python",
   "nbconvert_exporter": "python",
   "pygments_lexer": "ipython3",
   "version": "3.10.13"
  }
 },
 "nbformat": 4,
 "nbformat_minor": 5
}
